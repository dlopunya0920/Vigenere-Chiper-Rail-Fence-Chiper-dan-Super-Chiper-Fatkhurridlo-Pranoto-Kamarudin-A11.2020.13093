{
 "cells": [
  {
   "attachments": {},
   "cell_type": "markdown",
   "metadata": {},
   "source": [
    "Vigenere Chiper, Rail Fence Chiper, dan Super Chiper, Fatkhurridlo Pranoto Kamarudin, A11.2020.13093"
   ]
  },
  {
   "attachments": {},
   "cell_type": "markdown",
   "metadata": {},
   "source": [
    "Fungsi Untuk membuat Key"
   ]
  },
  {
   "cell_type": "code",
   "execution_count": 1,
   "metadata": {},
   "outputs": [],
   "source": [
    "def generateKey(string, key):\n",
    "    key = list(key)\n",
    "    if len(string) == len(key):\n",
    "        return(key)\n",
    "    else:\n",
    "        for i in range(len(string) -\n",
    "                       len(key)):\n",
    "            key.append(key[i % len(key)])\n",
    "    return(\"\" . join(key))"
   ]
  },
  {
   "attachments": {},
   "cell_type": "markdown",
   "metadata": {},
   "source": [
    "Fungsi Enkripsi"
   ]
  },
  {
   "cell_type": "code",
   "execution_count": 2,
   "metadata": {},
   "outputs": [],
   "source": [
    "def cipherText(string, key):\n",
    "    cipher_text = []\n",
    "    for i in range(len(string)):\n",
    "        x = (ord(string[i]) +\n",
    "             ord(key[i])) % 26\n",
    "        x += ord('A')\n",
    "        cipher_text.append(chr(x))\n",
    "    return(\"\" . join(cipher_text))"
   ]
  },
  {
   "attachments": {},
   "cell_type": "markdown",
   "metadata": {},
   "source": [
    "Fungsi Dekripsi"
   ]
  },
  {
   "cell_type": "code",
   "execution_count": 3,
   "metadata": {},
   "outputs": [],
   "source": [
    "def originalText(cipher_text, key):\n",
    "    orig_text = []\n",
    "    for i in range(len(cipher_text)):\n",
    "        x = (ord(cipher_text[i]) -\n",
    "             ord(key[i]) + 26) % 26\n",
    "        x += ord('A')\n",
    "        orig_text.append(chr(x))\n",
    "    return(\"\" . join(orig_text))"
   ]
  },
  {
   "cell_type": "code",
   "execution_count": 8,
   "metadata": {},
   "outputs": [
    {
     "name": "stdout",
     "output_type": "stream",
     "text": [
      "Ciphertext : JBTFIGGTDEHHOSECHYEWLOYDSGC\n",
      "Original/Decrypted Text : UNIVERSITASTDIANTNUSWANTORO\n"
     ]
    }
   ],
   "source": [
    "if __name__ == \"__main__\":\n",
    "    string = \"UNIVERSITAS DIAN NUSWANTORO\"\n",
    "    keyword = \"POLKE\"\n",
    "    key = generateKey(string, keyword)\n",
    "    cipher_text = cipherText(string,key)\n",
    "    print(\"Ciphertext :\", cipher_text)\n",
    "    print(\"Original/Decrypted Text :\",\n",
    "           originalText(cipher_text, key))"
   ]
  },
  {
   "attachments": {},
   "cell_type": "markdown",
   "metadata": {},
   "source": [
    "Rail Fence Chiper"
   ]
  },
  {
   "attachments": {},
   "cell_type": "markdown",
   "metadata": {},
   "source": [
    "Enkripsi"
   ]
  },
  {
   "cell_type": "code",
   "execution_count": 14,
   "metadata": {},
   "outputs": [],
   "source": [
    "def encryptRailFence(text, key):\n",
    " \n",
    "    # create the matrix to cipher\n",
    "    # plain text key = rows ,\n",
    "    # length(text) = columns\n",
    "    # filling the rail matrix\n",
    "    # to distinguish filled\n",
    "    # spaces from blank ones\n",
    "    rail = [['\\n' for i in range(len(text))]\n",
    "                for j in range(key)]\n",
    "     \n",
    "    # to find the direction\n",
    "    dir_down = False\n",
    "    row, col = 0, 0\n",
    "     \n",
    "    for i in range(len(text)):\n",
    "         \n",
    "        # check the direction of flow\n",
    "        # reverse the direction if we've just\n",
    "        # filled the top or bottom rail\n",
    "        if (row == 0) or (row == key - 1):\n",
    "            dir_down = not dir_down\n",
    "         \n",
    "        # fill the corresponding alphabet\n",
    "        rail[row][col] = text[i]\n",
    "        col += 1\n",
    "         \n",
    "        # find the next row using\n",
    "        # direction flag\n",
    "        if dir_down:\n",
    "            row += 1\n",
    "        else:\n",
    "            row -= 1\n",
    "    # now we can construct the cipher\n",
    "    # using the rail matrix\n",
    "    result = []\n",
    "    for i in range(key):\n",
    "        for j in range(len(text)):\n",
    "            if rail[i][j] != '\\n':\n",
    "                result.append(rail[i][j])\n",
    "    return(\"\" . join(result))"
   ]
  },
  {
   "attachments": {},
   "cell_type": "markdown",
   "metadata": {},
   "source": [
    "Dekripsi"
   ]
  },
  {
   "cell_type": "code",
   "execution_count": 12,
   "metadata": {},
   "outputs": [],
   "source": [
    "def decryptRailFence(cipher, key):\n",
    " \n",
    "    # create the matrix to cipher\n",
    "    # plain text key = rows ,\n",
    "    # length(text) = columns\n",
    "    # filling the rail matrix to\n",
    "    # distinguish filled spaces\n",
    "    # from blank ones\n",
    "    rail = [['\\n' for i in range(len(cipher))]\n",
    "                for j in range(key)]\n",
    "     \n",
    "    # to find the direction\n",
    "    dir_down = None\n",
    "    row, col = 0, 0\n",
    "     \n",
    "    # mark the places with '*'\n",
    "    for i in range(len(cipher)):\n",
    "        if row == 0:\n",
    "            dir_down = True\n",
    "        if row == key - 1:\n",
    "            dir_down = False\n",
    "         \n",
    "        # place the marker\n",
    "        rail[row][col] = '*'\n",
    "        col += 1\n",
    "         \n",
    "        # find the next row\n",
    "        # using direction flag\n",
    "        if dir_down:\n",
    "            row += 1\n",
    "        else:\n",
    "            row -= 1\n",
    "             \n",
    "    # now we can construct the\n",
    "    # fill the rail matrix\n",
    "    index = 0\n",
    "    for i in range(key):\n",
    "        for j in range(len(cipher)):\n",
    "            if ((rail[i][j] == '*') and\n",
    "            (index < len(cipher))):\n",
    "                rail[i][j] = cipher[index]\n",
    "                index += 1\n",
    "         \n",
    "    # now read the matrix in\n",
    "    # zig-zag manner to construct\n",
    "    # the resultant text\n",
    "    result = []\n",
    "    row, col = 0, 0\n",
    "    for i in range(len(cipher)):\n",
    "         \n",
    "        # check the direction of flow\n",
    "        if row == 0:\n",
    "            dir_down = True\n",
    "        if row == key-1:\n",
    "            dir_down = False\n",
    "             \n",
    "        # place the marker\n",
    "        if (rail[row][col] != '*'):\n",
    "            result.append(rail[row][col])\n",
    "            col += 1\n",
    "             \n",
    "        # find the next row using\n",
    "        # direction flag\n",
    "        if dir_down:\n",
    "            row += 1\n",
    "        else:\n",
    "            row -= 1\n",
    "    return(\"\".join(result))"
   ]
  },
  {
   "attachments": {},
   "cell_type": "markdown",
   "metadata": {},
   "source": [
    "Testing"
   ]
  },
  {
   "cell_type": "code",
   "execution_count": 35,
   "metadata": {},
   "outputs": [
    {
     "name": "stdout",
     "output_type": "stream",
     "text": [
      "Hasil enkrip rail fence : uetnvria iss\n",
      "Hasil enkrip Super : JIDOHLSBFGTEHSCYWODGTGHEEYC\n",
      "Hasil dekrip rail fence : universitas \n",
      "Hasil dekrip Super : UNIVERSITASTDIANTNUSWANTORO\n"
     ]
    }
   ],
   "source": [
    "if __name__ == \"__main__\":\n",
    "   \n",
    "    print(\"Hasil enkrip rail fence :\",\n",
    "          encryptRailFence(\"universitas \", 3))\n",
    "    \n",
    "    print(\"Hasil enkrip Super :\",\n",
    "          encryptRailFence(cipher_text, 3))\n",
    "     \n",
    "    # Now decryption of the\n",
    "    # same cipher-text\n",
    "   \n",
    "    print(\"Hasil dekrip rail fence :\",\n",
    "          decryptRailFence(\"uetnvria iss\", 3))\n",
    "    dekrip_super=(decryptRailFence(\"JIDOHLSBFGTEHSCYWODGTGHEEYC\", 3))\n",
    "    \n",
    "    \n",
    "    print(\"Hasil dekrip Super :\",\n",
    "           originalText(dekrip_super, key))\n",
    "\n",
    "    "
   ]
  }
 ],
 "metadata": {
  "kernelspec": {
   "display_name": "Python 3",
   "language": "python",
   "name": "python3"
  },
  "language_info": {
   "codemirror_mode": {
    "name": "ipython",
    "version": 3
   },
   "file_extension": ".py",
   "mimetype": "text/x-python",
   "name": "python",
   "nbconvert_exporter": "python",
   "pygments_lexer": "ipython3",
   "version": "3.11.2"
  },
  "orig_nbformat": 4
 },
 "nbformat": 4,
 "nbformat_minor": 2
}
